{
 "cells": [
  {
   "cell_type": "code",
   "execution_count": null,
   "id": "77db71e8",
   "metadata": {},
   "outputs": [],
   "source": [
    "import pandas as pd\n",
    "import numpy as np\n",
    "from statsmodels.stats.outliers_influence import variance_inflation_factor\n",
    "from statsmodels.tools.tools import add_constant\n",
    "from sklearn.model_selection import train_test_split\n",
    "from sklearn.preprocessing import StandardScaler\n",
    "import statsmodels.api as sm\n",
    "from sklearn.linear_model import LogisticRegression\n",
    "from sklearn.ensemble import RandomForestClassifier\n",
    "from sklearn.model_selection import cross_val_score\n",
    "from sklearn.metrics import accuracy_score, roc_auc_score, confusion_matrix, classification_report, roc_curve\n",
    "import matplotlib.pyplot as plt"
   ]
  },
  {
   "cell_type": "markdown",
   "id": "8e365948",
   "metadata": {},
   "source": [
    "# Data Import"
   ]
  },
  {
   "cell_type": "code",
   "execution_count": null,
   "id": "0fe8a491",
   "metadata": {},
   "outputs": [],
   "source": [
    "# Parameters\n",
    "remove_outliers = True\n",
    "quantile_outlier_remove = 0.001\n",
    "\n",
    "# Error costs\n",
    "cost_fp = 1   # Cost of a legitimate transaction being classified as fraud\n",
    "cost_fn = 10  # Cost of a fraudulent transaction being classified as legitimate"
   ]
  },
  {
   "cell_type": "code",
   "execution_count": 2,
   "id": "d9f9f663",
   "metadata": {},
   "outputs": [
    {
     "name": "stdout",
     "output_type": "stream",
     "text": [
      "Dataset URL: https://www.kaggle.com/datasets/gzdekzlkaya/credit-card-fraud-detection-dataset\n",
      "License(s): CC-BY-SA-4.0\n",
      "credit-card-fraud-detection-dataset.zip: Skipping, found more recently modified local copy (use --force to force download)\n"
     ]
    }
   ],
   "source": [
    "!kaggle datasets download -d gzdekzlkaya/credit-card-fraud-detection-dataset\n",
    "import zipfile\n",
    "\n",
    "with zipfile.ZipFile(\"credit-card-fraud-detection-dataset.zip\", \"r\") as zip_ref:\n",
    "    zip_ref.extractall(\"credit_fraud_data\")"
   ]
  },
  {
   "cell_type": "code",
   "execution_count": 3,
   "id": "0c99e193",
   "metadata": {},
   "outputs": [
    {
     "data": {
      "text/html": [
       "<div>\n",
       "<style scoped>\n",
       "    .dataframe tbody tr th:only-of-type {\n",
       "        vertical-align: middle;\n",
       "    }\n",
       "\n",
       "    .dataframe tbody tr th {\n",
       "        vertical-align: top;\n",
       "    }\n",
       "\n",
       "    .dataframe thead th {\n",
       "        text-align: right;\n",
       "    }\n",
       "</style>\n",
       "<table border=\"1\" class=\"dataframe\">\n",
       "  <thead>\n",
       "    <tr style=\"text-align: right;\">\n",
       "      <th></th>\n",
       "      <th>Time</th>\n",
       "      <th>V1</th>\n",
       "      <th>V2</th>\n",
       "      <th>V3</th>\n",
       "      <th>V4</th>\n",
       "      <th>V5</th>\n",
       "      <th>V6</th>\n",
       "      <th>V7</th>\n",
       "      <th>V8</th>\n",
       "      <th>V9</th>\n",
       "      <th>...</th>\n",
       "      <th>V21</th>\n",
       "      <th>V22</th>\n",
       "      <th>V23</th>\n",
       "      <th>V24</th>\n",
       "      <th>V25</th>\n",
       "      <th>V26</th>\n",
       "      <th>V27</th>\n",
       "      <th>V28</th>\n",
       "      <th>Amount</th>\n",
       "      <th>Class</th>\n",
       "    </tr>\n",
       "  </thead>\n",
       "  <tbody>\n",
       "    <tr>\n",
       "      <th>0</th>\n",
       "      <td>0.0</td>\n",
       "      <td>-1.359807</td>\n",
       "      <td>-0.072781</td>\n",
       "      <td>2.536347</td>\n",
       "      <td>1.378155</td>\n",
       "      <td>-0.338321</td>\n",
       "      <td>0.462388</td>\n",
       "      <td>0.239599</td>\n",
       "      <td>0.098698</td>\n",
       "      <td>0.363787</td>\n",
       "      <td>...</td>\n",
       "      <td>-0.018307</td>\n",
       "      <td>0.277838</td>\n",
       "      <td>-0.110474</td>\n",
       "      <td>0.066928</td>\n",
       "      <td>0.128539</td>\n",
       "      <td>-0.189115</td>\n",
       "      <td>0.133558</td>\n",
       "      <td>-0.021053</td>\n",
       "      <td>149.62</td>\n",
       "      <td>0</td>\n",
       "    </tr>\n",
       "    <tr>\n",
       "      <th>1</th>\n",
       "      <td>0.0</td>\n",
       "      <td>1.191857</td>\n",
       "      <td>0.266151</td>\n",
       "      <td>0.166480</td>\n",
       "      <td>0.448154</td>\n",
       "      <td>0.060018</td>\n",
       "      <td>-0.082361</td>\n",
       "      <td>-0.078803</td>\n",
       "      <td>0.085102</td>\n",
       "      <td>-0.255425</td>\n",
       "      <td>...</td>\n",
       "      <td>-0.225775</td>\n",
       "      <td>-0.638672</td>\n",
       "      <td>0.101288</td>\n",
       "      <td>-0.339846</td>\n",
       "      <td>0.167170</td>\n",
       "      <td>0.125895</td>\n",
       "      <td>-0.008983</td>\n",
       "      <td>0.014724</td>\n",
       "      <td>2.69</td>\n",
       "      <td>0</td>\n",
       "    </tr>\n",
       "    <tr>\n",
       "      <th>2</th>\n",
       "      <td>1.0</td>\n",
       "      <td>-1.358354</td>\n",
       "      <td>-1.340163</td>\n",
       "      <td>1.773209</td>\n",
       "      <td>0.379780</td>\n",
       "      <td>-0.503198</td>\n",
       "      <td>1.800499</td>\n",
       "      <td>0.791461</td>\n",
       "      <td>0.247676</td>\n",
       "      <td>-1.514654</td>\n",
       "      <td>...</td>\n",
       "      <td>0.247998</td>\n",
       "      <td>0.771679</td>\n",
       "      <td>0.909412</td>\n",
       "      <td>-0.689281</td>\n",
       "      <td>-0.327642</td>\n",
       "      <td>-0.139097</td>\n",
       "      <td>-0.055353</td>\n",
       "      <td>-0.059752</td>\n",
       "      <td>378.66</td>\n",
       "      <td>0</td>\n",
       "    </tr>\n",
       "    <tr>\n",
       "      <th>3</th>\n",
       "      <td>1.0</td>\n",
       "      <td>-0.966272</td>\n",
       "      <td>-0.185226</td>\n",
       "      <td>1.792993</td>\n",
       "      <td>-0.863291</td>\n",
       "      <td>-0.010309</td>\n",
       "      <td>1.247203</td>\n",
       "      <td>0.237609</td>\n",
       "      <td>0.377436</td>\n",
       "      <td>-1.387024</td>\n",
       "      <td>...</td>\n",
       "      <td>-0.108300</td>\n",
       "      <td>0.005274</td>\n",
       "      <td>-0.190321</td>\n",
       "      <td>-1.175575</td>\n",
       "      <td>0.647376</td>\n",
       "      <td>-0.221929</td>\n",
       "      <td>0.062723</td>\n",
       "      <td>0.061458</td>\n",
       "      <td>123.50</td>\n",
       "      <td>0</td>\n",
       "    </tr>\n",
       "    <tr>\n",
       "      <th>4</th>\n",
       "      <td>2.0</td>\n",
       "      <td>-1.158233</td>\n",
       "      <td>0.877737</td>\n",
       "      <td>1.548718</td>\n",
       "      <td>0.403034</td>\n",
       "      <td>-0.407193</td>\n",
       "      <td>0.095921</td>\n",
       "      <td>0.592941</td>\n",
       "      <td>-0.270533</td>\n",
       "      <td>0.817739</td>\n",
       "      <td>...</td>\n",
       "      <td>-0.009431</td>\n",
       "      <td>0.798278</td>\n",
       "      <td>-0.137458</td>\n",
       "      <td>0.141267</td>\n",
       "      <td>-0.206010</td>\n",
       "      <td>0.502292</td>\n",
       "      <td>0.219422</td>\n",
       "      <td>0.215153</td>\n",
       "      <td>69.99</td>\n",
       "      <td>0</td>\n",
       "    </tr>\n",
       "  </tbody>\n",
       "</table>\n",
       "<p>5 rows × 31 columns</p>\n",
       "</div>"
      ],
      "text/plain": [
       "   Time        V1        V2        V3        V4        V5        V6        V7  \\\n",
       "0   0.0 -1.359807 -0.072781  2.536347  1.378155 -0.338321  0.462388  0.239599   \n",
       "1   0.0  1.191857  0.266151  0.166480  0.448154  0.060018 -0.082361 -0.078803   \n",
       "2   1.0 -1.358354 -1.340163  1.773209  0.379780 -0.503198  1.800499  0.791461   \n",
       "3   1.0 -0.966272 -0.185226  1.792993 -0.863291 -0.010309  1.247203  0.237609   \n",
       "4   2.0 -1.158233  0.877737  1.548718  0.403034 -0.407193  0.095921  0.592941   \n",
       "\n",
       "         V8        V9  ...       V21       V22       V23       V24       V25  \\\n",
       "0  0.098698  0.363787  ... -0.018307  0.277838 -0.110474  0.066928  0.128539   \n",
       "1  0.085102 -0.255425  ... -0.225775 -0.638672  0.101288 -0.339846  0.167170   \n",
       "2  0.247676 -1.514654  ...  0.247998  0.771679  0.909412 -0.689281 -0.327642   \n",
       "3  0.377436 -1.387024  ... -0.108300  0.005274 -0.190321 -1.175575  0.647376   \n",
       "4 -0.270533  0.817739  ... -0.009431  0.798278 -0.137458  0.141267 -0.206010   \n",
       "\n",
       "        V26       V27       V28  Amount  Class  \n",
       "0 -0.189115  0.133558 -0.021053  149.62      0  \n",
       "1  0.125895 -0.008983  0.014724    2.69      0  \n",
       "2 -0.139097 -0.055353 -0.059752  378.66      0  \n",
       "3 -0.221929  0.062723  0.061458  123.50      0  \n",
       "4  0.502292  0.219422  0.215153   69.99      0  \n",
       "\n",
       "[5 rows x 31 columns]"
      ]
     },
     "execution_count": 3,
     "metadata": {},
     "output_type": "execute_result"
    }
   ],
   "source": [
    "df = pd.read_csv(\"credit_fraud_data/creditcard_fraud_detection.csv\")\n",
    "df.head()"
   ]
  },
  {
   "cell_type": "markdown",
   "id": "cf5a0024",
   "metadata": {},
   "source": [
    "# Data Analysis"
   ]
  },
  {
   "cell_type": "markdown",
   "id": "8645fad4",
   "metadata": {},
   "source": [
    "Features:\n",
    "- V1 to V28: PCA-transformed features\n",
    "- Amount: Transaction amount\n",
    "- Time: Time since first transaction\n",
    "- Class: Target (0 = legitimate, 1 = fraud)"
   ]
  },
  {
   "cell_type": "code",
   "execution_count": 4,
   "id": "ca2d7351",
   "metadata": {},
   "outputs": [
    {
     "data": {
      "text/html": [
       "<div>\n",
       "<style scoped>\n",
       "    .dataframe tbody tr th:only-of-type {\n",
       "        vertical-align: middle;\n",
       "    }\n",
       "\n",
       "    .dataframe tbody tr th {\n",
       "        vertical-align: top;\n",
       "    }\n",
       "\n",
       "    .dataframe thead th {\n",
       "        text-align: right;\n",
       "    }\n",
       "</style>\n",
       "<table border=\"1\" class=\"dataframe\">\n",
       "  <thead>\n",
       "    <tr style=\"text-align: right;\">\n",
       "      <th></th>\n",
       "      <th>Time</th>\n",
       "      <th>V1</th>\n",
       "      <th>V2</th>\n",
       "      <th>V3</th>\n",
       "      <th>V4</th>\n",
       "      <th>V5</th>\n",
       "      <th>V6</th>\n",
       "      <th>V7</th>\n",
       "      <th>V8</th>\n",
       "      <th>V9</th>\n",
       "      <th>...</th>\n",
       "      <th>V21</th>\n",
       "      <th>V22</th>\n",
       "      <th>V23</th>\n",
       "      <th>V24</th>\n",
       "      <th>V25</th>\n",
       "      <th>V26</th>\n",
       "      <th>V27</th>\n",
       "      <th>V28</th>\n",
       "      <th>Amount</th>\n",
       "      <th>Class</th>\n",
       "    </tr>\n",
       "  </thead>\n",
       "  <tbody>\n",
       "    <tr>\n",
       "      <th>count</th>\n",
       "      <td>284807.0000</td>\n",
       "      <td>284807.0000</td>\n",
       "      <td>284807.0000</td>\n",
       "      <td>284807.0000</td>\n",
       "      <td>284807.0000</td>\n",
       "      <td>284807.0000</td>\n",
       "      <td>284807.0000</td>\n",
       "      <td>284807.0000</td>\n",
       "      <td>284807.0000</td>\n",
       "      <td>284807.0000</td>\n",
       "      <td>...</td>\n",
       "      <td>284807.0000</td>\n",
       "      <td>284807.0000</td>\n",
       "      <td>284807.0000</td>\n",
       "      <td>284807.0000</td>\n",
       "      <td>284807.0000</td>\n",
       "      <td>284807.0000</td>\n",
       "      <td>284807.0000</td>\n",
       "      <td>284807.0000</td>\n",
       "      <td>284807.0000</td>\n",
       "      <td>284807.0000</td>\n",
       "    </tr>\n",
       "    <tr>\n",
       "      <th>mean</th>\n",
       "      <td>94813.8596</td>\n",
       "      <td>0.0000</td>\n",
       "      <td>0.0000</td>\n",
       "      <td>-0.0000</td>\n",
       "      <td>0.0000</td>\n",
       "      <td>0.0000</td>\n",
       "      <td>0.0000</td>\n",
       "      <td>-0.0000</td>\n",
       "      <td>0.0000</td>\n",
       "      <td>-0.0000</td>\n",
       "      <td>...</td>\n",
       "      <td>0.0000</td>\n",
       "      <td>-0.0000</td>\n",
       "      <td>0.0000</td>\n",
       "      <td>0.0000</td>\n",
       "      <td>0.0000</td>\n",
       "      <td>0.0000</td>\n",
       "      <td>-0.0000</td>\n",
       "      <td>-0.0000</td>\n",
       "      <td>88.3496</td>\n",
       "      <td>0.0017</td>\n",
       "    </tr>\n",
       "    <tr>\n",
       "      <th>std</th>\n",
       "      <td>47488.1460</td>\n",
       "      <td>1.9587</td>\n",
       "      <td>1.6513</td>\n",
       "      <td>1.5163</td>\n",
       "      <td>1.4159</td>\n",
       "      <td>1.3802</td>\n",
       "      <td>1.3323</td>\n",
       "      <td>1.2371</td>\n",
       "      <td>1.1944</td>\n",
       "      <td>1.0986</td>\n",
       "      <td>...</td>\n",
       "      <td>0.7345</td>\n",
       "      <td>0.7257</td>\n",
       "      <td>0.6245</td>\n",
       "      <td>0.6056</td>\n",
       "      <td>0.5213</td>\n",
       "      <td>0.4822</td>\n",
       "      <td>0.4036</td>\n",
       "      <td>0.3301</td>\n",
       "      <td>250.1201</td>\n",
       "      <td>0.0415</td>\n",
       "    </tr>\n",
       "    <tr>\n",
       "      <th>min</th>\n",
       "      <td>0.0000</td>\n",
       "      <td>-56.4075</td>\n",
       "      <td>-72.7157</td>\n",
       "      <td>-48.3256</td>\n",
       "      <td>-5.6832</td>\n",
       "      <td>-113.7433</td>\n",
       "      <td>-26.1605</td>\n",
       "      <td>-43.5572</td>\n",
       "      <td>-73.2167</td>\n",
       "      <td>-13.4341</td>\n",
       "      <td>...</td>\n",
       "      <td>-34.8304</td>\n",
       "      <td>-10.9331</td>\n",
       "      <td>-44.8077</td>\n",
       "      <td>-2.8366</td>\n",
       "      <td>-10.2954</td>\n",
       "      <td>-2.6046</td>\n",
       "      <td>-22.5657</td>\n",
       "      <td>-15.4301</td>\n",
       "      <td>0.0000</td>\n",
       "      <td>0.0000</td>\n",
       "    </tr>\n",
       "    <tr>\n",
       "      <th>25%</th>\n",
       "      <td>54201.5000</td>\n",
       "      <td>-0.9204</td>\n",
       "      <td>-0.5985</td>\n",
       "      <td>-0.8904</td>\n",
       "      <td>-0.8486</td>\n",
       "      <td>-0.6916</td>\n",
       "      <td>-0.7683</td>\n",
       "      <td>-0.5541</td>\n",
       "      <td>-0.2086</td>\n",
       "      <td>-0.6431</td>\n",
       "      <td>...</td>\n",
       "      <td>-0.2284</td>\n",
       "      <td>-0.5424</td>\n",
       "      <td>-0.1618</td>\n",
       "      <td>-0.3546</td>\n",
       "      <td>-0.3171</td>\n",
       "      <td>-0.3270</td>\n",
       "      <td>-0.0708</td>\n",
       "      <td>-0.0530</td>\n",
       "      <td>5.6000</td>\n",
       "      <td>0.0000</td>\n",
       "    </tr>\n",
       "    <tr>\n",
       "      <th>50%</th>\n",
       "      <td>84692.0000</td>\n",
       "      <td>0.0181</td>\n",
       "      <td>0.0655</td>\n",
       "      <td>0.1798</td>\n",
       "      <td>-0.0198</td>\n",
       "      <td>-0.0543</td>\n",
       "      <td>-0.2742</td>\n",
       "      <td>0.0401</td>\n",
       "      <td>0.0224</td>\n",
       "      <td>-0.0514</td>\n",
       "      <td>...</td>\n",
       "      <td>-0.0295</td>\n",
       "      <td>0.0068</td>\n",
       "      <td>-0.0112</td>\n",
       "      <td>0.0410</td>\n",
       "      <td>0.0166</td>\n",
       "      <td>-0.0521</td>\n",
       "      <td>0.0013</td>\n",
       "      <td>0.0112</td>\n",
       "      <td>22.0000</td>\n",
       "      <td>0.0000</td>\n",
       "    </tr>\n",
       "    <tr>\n",
       "      <th>75%</th>\n",
       "      <td>139320.5000</td>\n",
       "      <td>1.3156</td>\n",
       "      <td>0.8037</td>\n",
       "      <td>1.0272</td>\n",
       "      <td>0.7433</td>\n",
       "      <td>0.6119</td>\n",
       "      <td>0.3986</td>\n",
       "      <td>0.5704</td>\n",
       "      <td>0.3273</td>\n",
       "      <td>0.5971</td>\n",
       "      <td>...</td>\n",
       "      <td>0.1864</td>\n",
       "      <td>0.5286</td>\n",
       "      <td>0.1476</td>\n",
       "      <td>0.4395</td>\n",
       "      <td>0.3507</td>\n",
       "      <td>0.2410</td>\n",
       "      <td>0.0910</td>\n",
       "      <td>0.0783</td>\n",
       "      <td>77.1650</td>\n",
       "      <td>0.0000</td>\n",
       "    </tr>\n",
       "    <tr>\n",
       "      <th>max</th>\n",
       "      <td>172792.0000</td>\n",
       "      <td>2.4549</td>\n",
       "      <td>22.0577</td>\n",
       "      <td>9.3826</td>\n",
       "      <td>16.8753</td>\n",
       "      <td>34.8017</td>\n",
       "      <td>73.3016</td>\n",
       "      <td>120.5895</td>\n",
       "      <td>20.0072</td>\n",
       "      <td>15.5950</td>\n",
       "      <td>...</td>\n",
       "      <td>27.2028</td>\n",
       "      <td>10.5031</td>\n",
       "      <td>22.5284</td>\n",
       "      <td>4.5845</td>\n",
       "      <td>7.5196</td>\n",
       "      <td>3.5173</td>\n",
       "      <td>31.6122</td>\n",
       "      <td>33.8478</td>\n",
       "      <td>25691.1600</td>\n",
       "      <td>1.0000</td>\n",
       "    </tr>\n",
       "  </tbody>\n",
       "</table>\n",
       "<p>8 rows × 31 columns</p>\n",
       "</div>"
      ],
      "text/plain": [
       "              Time           V1           V2           V3           V4  \\\n",
       "count  284807.0000  284807.0000  284807.0000  284807.0000  284807.0000   \n",
       "mean    94813.8596       0.0000       0.0000      -0.0000       0.0000   \n",
       "std     47488.1460       1.9587       1.6513       1.5163       1.4159   \n",
       "min         0.0000     -56.4075     -72.7157     -48.3256      -5.6832   \n",
       "25%     54201.5000      -0.9204      -0.5985      -0.8904      -0.8486   \n",
       "50%     84692.0000       0.0181       0.0655       0.1798      -0.0198   \n",
       "75%    139320.5000       1.3156       0.8037       1.0272       0.7433   \n",
       "max    172792.0000       2.4549      22.0577       9.3826      16.8753   \n",
       "\n",
       "                V5           V6           V7           V8           V9  ...  \\\n",
       "count  284807.0000  284807.0000  284807.0000  284807.0000  284807.0000  ...   \n",
       "mean        0.0000       0.0000      -0.0000       0.0000      -0.0000  ...   \n",
       "std         1.3802       1.3323       1.2371       1.1944       1.0986  ...   \n",
       "min      -113.7433     -26.1605     -43.5572     -73.2167     -13.4341  ...   \n",
       "25%        -0.6916      -0.7683      -0.5541      -0.2086      -0.6431  ...   \n",
       "50%        -0.0543      -0.2742       0.0401       0.0224      -0.0514  ...   \n",
       "75%         0.6119       0.3986       0.5704       0.3273       0.5971  ...   \n",
       "max        34.8017      73.3016     120.5895      20.0072      15.5950  ...   \n",
       "\n",
       "               V21          V22          V23          V24          V25  \\\n",
       "count  284807.0000  284807.0000  284807.0000  284807.0000  284807.0000   \n",
       "mean        0.0000      -0.0000       0.0000       0.0000       0.0000   \n",
       "std         0.7345       0.7257       0.6245       0.6056       0.5213   \n",
       "min       -34.8304     -10.9331     -44.8077      -2.8366     -10.2954   \n",
       "25%        -0.2284      -0.5424      -0.1618      -0.3546      -0.3171   \n",
       "50%        -0.0295       0.0068      -0.0112       0.0410       0.0166   \n",
       "75%         0.1864       0.5286       0.1476       0.4395       0.3507   \n",
       "max        27.2028      10.5031      22.5284       4.5845       7.5196   \n",
       "\n",
       "               V26          V27          V28       Amount        Class  \n",
       "count  284807.0000  284807.0000  284807.0000  284807.0000  284807.0000  \n",
       "mean        0.0000      -0.0000      -0.0000      88.3496       0.0017  \n",
       "std         0.4822       0.4036       0.3301     250.1201       0.0415  \n",
       "min        -2.6046     -22.5657     -15.4301       0.0000       0.0000  \n",
       "25%        -0.3270      -0.0708      -0.0530       5.6000       0.0000  \n",
       "50%        -0.0521       0.0013       0.0112      22.0000       0.0000  \n",
       "75%         0.2410       0.0910       0.0783      77.1650       0.0000  \n",
       "max         3.5173      31.6122      33.8478   25691.1600       1.0000  \n",
       "\n",
       "[8 rows x 31 columns]"
      ]
     },
     "execution_count": 4,
     "metadata": {},
     "output_type": "execute_result"
    }
   ],
   "source": [
    "df.describe().round(4)"
   ]
  },
  {
   "cell_type": "code",
   "execution_count": 5,
   "id": "25f72abe",
   "metadata": {},
   "outputs": [
    {
     "name": "stdout",
     "output_type": "stream",
     "text": [
      "Number of rows:  284807\n",
      "Number of fraudulent transactions:  492\n"
     ]
    }
   ],
   "source": [
    "print(\"Number of rows: \", df.shape[0])\n",
    "print(\"Number of fraudulent transactions: \", df[df['Class'] == 1].shape[0])"
   ]
  },
  {
   "cell_type": "markdown",
   "id": "d7add2a4",
   "metadata": {},
   "source": [
    "Analyzing the correlation between the variables and the Class feature and filtering for the 1%+ corrrelated."
   ]
  },
  {
   "cell_type": "code",
   "execution_count": 6,
   "id": "71ab7d82",
   "metadata": {},
   "outputs": [
    {
     "name": "stdout",
     "output_type": "stream",
     "text": [
      "V11     0.154876\n",
      "V4      0.133447\n",
      "V2      0.091289\n",
      "V21     0.040413\n",
      "V19     0.034783\n",
      "V20     0.020090\n",
      "V8      0.019875\n",
      "V27     0.017580\n",
      "Time   -0.012323\n",
      "V6     -0.043643\n",
      "V5     -0.094974\n",
      "V9     -0.097733\n",
      "V1     -0.101347\n",
      "V18    -0.111485\n",
      "V7     -0.187257\n",
      "V3     -0.192961\n",
      "V16    -0.196539\n",
      "V10    -0.216883\n",
      "V12    -0.260593\n",
      "V14    -0.302544\n",
      "V17    -0.326481\n",
      "Name: Class, dtype: float64\n"
     ]
    }
   ],
   "source": [
    "correlations = df.corr(numeric_only=True)['Class'].drop('Class').sort_values(ascending=False)\n",
    "correlations001 = correlations[correlations.abs() >= 0.01]\n",
    "print(correlations001)"
   ]
  },
  {
   "cell_type": "markdown",
   "id": "8f5caa7e",
   "metadata": {},
   "source": [
    "Now, keeping on the df only the features above."
   ]
  },
  {
   "cell_type": "code",
   "execution_count": 7,
   "id": "e5b562ed",
   "metadata": {},
   "outputs": [],
   "source": [
    "selected_columns = correlations001.index.tolist()\n",
    "selected_columns.append('Class')\n",
    "\n",
    "df = df[selected_columns]"
   ]
  },
  {
   "cell_type": "markdown",
   "id": "9586f912",
   "metadata": {},
   "source": [
    "Analyzing the outlier nonfraud cases and removing them from df."
   ]
  },
  {
   "cell_type": "code",
   "execution_count": null,
   "id": "8012e29c",
   "metadata": {},
   "outputs": [
    {
     "name": "stdout",
     "output_type": "stream",
     "text": [
      "Original nonfraud: 284315\n",
      "Cleaned nonfraud:  278234\n",
      "Outliers removed:  6081\n"
     ]
    }
   ],
   "source": [
    "if remove_outliers:\n",
    "    df_nonfraud = df[df['Class'] == 0].copy()\n",
    "    df_fraud = df[df['Class'] == 1].copy()\n",
    "\n",
    "    # Columns to evaluate outliers analysis\n",
    "    cols = df_nonfraud.columns.drop(['Class','Time'])\n",
    "\n",
    "    # Create a boolean mask: True if row is NOT an outlier in any column\n",
    "    mask = pd.Series([True] * len(df_nonfraud), index=df_nonfraud.index)\n",
    "\n",
    "    # Loop over each column to find and remove 0.1% tails\n",
    "    for col in cols:\n",
    "        lower = df_nonfraud[col].quantile(quantile_outlier_remove)\n",
    "        upper = df_nonfraud[col].quantile(1-quantile_outlier_remove)\n",
    "        col_mask = (df_nonfraud[col] >= lower) & (df_nonfraud[col] <= upper)\n",
    "        mask = mask & col_mask  # keep only rows within bounds for all columns\n",
    "\n",
    "    # Filter nonfraud rows to exclude outliers\n",
    "    df_nonfraud_cleaned = df_nonfraud[mask]\n",
    "\n",
    "    # Combine with untouched fraud cases\n",
    "    df = pd.concat([df_nonfraud_cleaned, df_fraud], ignore_index=True)\n",
    "\n",
    "    print(f\"Original nonfraud: {df_nonfraud.shape[0]}\")\n",
    "    print(f\"Cleaned nonfraud:  {df_nonfraud_cleaned.shape[0]}\")\n",
    "    print(f\"Outliers removed:  {df_nonfraud.shape[0] - df_nonfraud_cleaned.shape[0]}\")\n",
    "\n",
    "else:\n",
    "    print(\"Outlier removal skipped.\")"
   ]
  },
  {
   "cell_type": "markdown",
   "id": "a3c4f928",
   "metadata": {},
   "source": [
    "`df` is now ready to be used at each predictive model."
   ]
  },
  {
   "cell_type": "markdown",
   "id": "e0548aa1",
   "metadata": {},
   "source": [
    "# Logistic Regression"
   ]
  },
  {
   "cell_type": "markdown",
   "id": "f6e0dcd8",
   "metadata": {},
   "source": [
    "Analysis of correlation between the predictive variables based on VIF.\n",
    "\n",
    "| VIF  | Interpretation                    |\n",
    "| ---- | --------------------------------- |\n",
    "| 1    | No multicollinearity              |\n",
    "| 1–5  | Moderate correlation (usually OK) |\n",
    "| 5–10 | Concerning — check that feature   |\n",
    "| >10  | Problematic — strong collinearity |\n"
   ]
  },
  {
   "cell_type": "code",
   "execution_count": 36,
   "id": "4696d1e9",
   "metadata": {},
   "outputs": [
    {
     "name": "stdout",
     "output_type": "stream",
     "text": [
      "   feature       VIF\n",
      "0    const  1.000000\n",
      "1      V11  1.100180\n",
      "2       V4  1.056541\n",
      "3       V2  1.155098\n",
      "4      V21  1.034565\n",
      "5      V19  1.015318\n",
      "6      V20  1.143984\n",
      "7       V8  1.050942\n",
      "8      V27  1.031940\n",
      "9     Time  1.562847\n",
      "10      V6  1.155688\n",
      "11      V5  1.247599\n",
      "12      V9  1.043921\n",
      "13      V1  1.212707\n",
      "14     V18  1.020424\n",
      "15      V7  1.218729\n",
      "16      V3  1.385468\n",
      "17     V16  1.039844\n",
      "18     V10  1.055782\n",
      "19     V12  1.040558\n",
      "20     V14  1.050773\n",
      "21     V17  1.023802\n"
     ]
    }
   ],
   "source": [
    "X = df.drop(columns='Class')\n",
    "\n",
    "# Standardize features to improve stability\n",
    "from sklearn.preprocessing import StandardScaler\n",
    "X = pd.DataFrame(StandardScaler().fit_transform(X), columns=X.columns)\n",
    "\n",
    "# Add constant for statsmodels\n",
    "X_const = add_constant(X)\n",
    "\n",
    "# Compute VIF for each feature\n",
    "vif_data = pd.DataFrame()\n",
    "vif_data['feature'] = X_const.columns\n",
    "vif_data['VIF'] = [variance_inflation_factor(X_const.values, i)\n",
    "                   for i in range(X_const.shape[1])]\n",
    "\n",
    "print(vif_data)\n"
   ]
  },
  {
   "cell_type": "markdown",
   "id": "b3b4f84c",
   "metadata": {},
   "source": [
    "There are no variables to be removed by multicollinearity.\n",
    "\n",
    "Starting the model fit."
   ]
  },
  {
   "cell_type": "code",
   "execution_count": 37,
   "id": "07579b3d",
   "metadata": {},
   "outputs": [],
   "source": [
    "X = df.drop(columns='Class')\n",
    "y = df['Class']\n",
    "\n",
    "# Standardize features\n",
    "scaler = StandardScaler()\n",
    "X_scaled = pd.DataFrame(scaler.fit_transform(X), columns=X.columns)\n",
    "\n",
    "# Train-test split (stratify to preserve class balance)\n",
    "X_train, X_test, y_train, y_test = train_test_split(\n",
    "    X_scaled, y, test_size=0.2, random_state=35, stratify=y\n",
    ")"
   ]
  },
  {
   "cell_type": "markdown",
   "id": "efcd9956",
   "metadata": {},
   "source": [
    "Stepwise logistic regression"
   ]
  },
  {
   "cell_type": "code",
   "execution_count": 38,
   "id": "c3387460",
   "metadata": {},
   "outputs": [
    {
     "name": "stdout",
     "output_type": "stream",
     "text": [
      "Add         V7 with p-value 0.0000\n",
      "Add        V10 with p-value 0.0000\n",
      "Add         V4 with p-value 0.0000\n",
      "Add        V14 with p-value 0.0000\n",
      "Add        V12 with p-value 0.0000\n",
      "Add        V16 with p-value 0.0000\n",
      "Add         V8 with p-value 0.0000\n",
      "Add         V2 with p-value 0.0002\n",
      "Add        V17 with p-value 0.0066\n",
      "Add        V11 with p-value 0.0022\n",
      "Add        V21 with p-value 0.0464\n"
     ]
    }
   ],
   "source": [
    "def stepwise_selection(X, y, threshold_in=0.05, verbose=True):\n",
    "    included = []\n",
    "    while True:\n",
    "        changed = False\n",
    "        excluded = list(set(X.columns) - set(included))\n",
    "        new_pval = pd.Series(index=excluded, dtype=float)\n",
    "\n",
    "        for new_col in excluded:\n",
    "            model = sm.Logit(y, sm.add_constant(X[included + [new_col]])).fit(disp=0)\n",
    "            new_pval[new_col] = model.pvalues[new_col]\n",
    "\n",
    "        best_pval = new_pval.min()\n",
    "        if best_pval < threshold_in:\n",
    "            best_feature = new_pval.idxmin()\n",
    "            included.append(best_feature)\n",
    "            changed = True\n",
    "            if verbose:\n",
    "                print(f\"Add {best_feature:>10} with p-value {best_pval:.4f}\")\n",
    "\n",
    "        if not changed:\n",
    "            break\n",
    "    return included\n",
    "\n",
    "# Run on training set\n",
    "selected_features = stepwise_selection(X_train, y_train)\n"
   ]
  },
  {
   "cell_type": "markdown",
   "id": "ea194940",
   "metadata": {},
   "source": [
    "Cross-validation with selected features"
   ]
  },
  {
   "cell_type": "code",
   "execution_count": 39,
   "id": "0e093086",
   "metadata": {},
   "outputs": [
    {
     "name": "stdout",
     "output_type": "stream",
     "text": [
      "Cross-validated roc_auc: 0.9823 [0.9847944  0.99024637 0.96448633 0.98534908 0.98663631]\n",
      "Cross-validated f1: 0.9098 [0.95302013 0.87943262 0.88888889 0.8951049  0.93243243]\n",
      "Cross-validated recall: 0.8377 [0.91025641 0.78481013 0.81012658 0.81012658 0.87341772]\n",
      "Cross-validated balanced_accuracy: 0.9189 [0.95512821 0.89240506 0.90505206 0.90506329 0.93670886]\n"
     ]
    }
   ],
   "source": [
    "model_cv = LogisticRegression(max_iter=1000, solver='liblinear')\n",
    "\n",
    "cv_stats = ['roc_auc','f1','recall','balanced_accuracy']\n",
    "\n",
    "for stat in cv_stats:\n",
    "    cv_scores = cross_val_score(model_cv, X_train[selected_features], y_train, \n",
    "                                cv=5, scoring=stat)\n",
    "    print(f\"Cross-validated {stat}:\", np.round(cv_scores.mean(), 4), cv_scores)"
   ]
  },
  {
   "cell_type": "markdown",
   "id": "6650eca4",
   "metadata": {},
   "source": [
    "Final model fitting and prediction"
   ]
  },
  {
   "cell_type": "code",
   "execution_count": 44,
   "id": "20f9c2f8",
   "metadata": {},
   "outputs": [],
   "source": [
    "model_final = LogisticRegression(max_iter=1000, solver='liblinear')\n",
    "model_final.fit(X_train[selected_features], y_train)\n",
    "\n",
    "y_pred = model_final.predict(X_test[selected_features])\n",
    "y_proba = model_final.predict_proba(X_test[selected_features])[:, 1]"
   ]
  },
  {
   "cell_type": "markdown",
   "id": "ed8e6d67",
   "metadata": {},
   "source": [
    "Gets best threshold based on FP and FN costs"
   ]
  },
  {
   "cell_type": "code",
   "execution_count": null,
   "id": "1e85bd6a",
   "metadata": {},
   "outputs": [
    {
     "name": "stdout",
     "output_type": "stream",
     "text": [
      "Best threshold = 0.08 with total cost = 217\n",
      "Confusion Matrix at Best Threshold:\n",
      "[[55641     7]\n",
      " [   21    77]]\n"
     ]
    }
   ],
   "source": [
    "thresholds = np.linspace(0.01, 0.99, 99)\n",
    "costs = []\n",
    "\n",
    "for thresh in thresholds:\n",
    "    y_pred_thresh = (y_proba >= thresh).astype(int)\n",
    "    tn, fp, fn, tp = confusion_matrix(y_test, y_pred_thresh).ravel()\n",
    "    total_cost = fp * cost_fp + fn * cost_fn\n",
    "    costs.append(total_cost)\n",
    "\n",
    "# Best threshold\n",
    "best_index = np.argmin(costs)\n",
    "best_threshold = thresholds[best_index]\n",
    "print(f\"Best threshold = {best_threshold:.2f} with total cost = {costs[best_index]}\")\n",
    "# print(f\"Confusion Matrix at Best Threshold:\\n{confusion_matrix(y_test, (y_proba >= best_threshold).astype(int))}\")"
   ]
  },
  {
   "cell_type": "markdown",
   "id": "b22b9031",
   "metadata": {},
   "source": [
    "Evaluation metrics"
   ]
  },
  {
   "cell_type": "code",
   "execution_count": 51,
   "id": "18852973",
   "metadata": {},
   "outputs": [
    {
     "name": "stdout",
     "output_type": "stream",
     "text": [
      "Accuracy: 0.9994977218096366\n",
      "ROC AUC: 0.9757904275856404\n",
      "Confusion Matrix:\n",
      " [[55641     7]\n",
      " [   21    77]]\n",
      "Classification Report:\n",
      "               precision    recall  f1-score   support\n",
      "\n",
      "           0       1.00      1.00      1.00     55648\n",
      "           1       0.92      0.79      0.85        98\n",
      "\n",
      "    accuracy                           1.00     55746\n",
      "   macro avg       0.96      0.89      0.92     55746\n",
      "weighted avg       1.00      1.00      1.00     55746\n",
      "\n"
     ]
    },
    {
     "data": {
      "image/png": "[encoded data removed]",
      "text/plain": [
       "<Figure size 640x480 with 1 Axes>"
      ]
     },
     "metadata": {},
     "output_type": "display_data"
    }
   ],
   "source": [
    "y_pred = (y_proba >= best_threshold).astype(int)\n",
    "\n",
    "print(\"Accuracy:\", accuracy_score(y_test, y_pred))\n",
    "print(\"ROC AUC:\", roc_auc_score(y_test, y_proba))\n",
    "print(\"Confusion Matrix:\\n\", confusion_matrix(y_test, y_pred))\n",
    "print(\"Classification Report:\\n\", classification_report(y_test, y_pred))\n",
    "\n",
    "# ROC Curve\n",
    "fpr, tpr, _ = roc_curve(y_test, y_proba)\n",
    "plt.plot(fpr, tpr, label='Logistic (AUC = {:.3f})'.format(roc_auc_score(y_test, y_proba)))\n",
    "plt.plot([0, 1], [0, 1], 'k--')\n",
    "plt.xlabel('False Positive Rate')\n",
    "plt.ylabel('True Positive Rate')\n",
    "plt.legend()\n",
    "plt.title('ROC Curve')\n",
    "plt.show()"
   ]
  },
  {
   "cell_type": "markdown",
   "id": "391bb337",
   "metadata": {},
   "source": [
    "Goodness of fit"
   ]
  },
  {
   "cell_type": "code",
   "execution_count": 53,
   "id": "c757e42e",
   "metadata": {},
   "outputs": [
    {
     "name": "stdout",
     "output_type": "stream",
     "text": [
      "Optimization terminated successfully.\n",
      "         Current function value: 0.001963\n",
      "         Iterations 14\n",
      "                           Logit Regression Results                           \n",
      "==============================================================================\n",
      "Dep. Variable:                  Class   No. Observations:               222980\n",
      "Model:                          Logit   Df Residuals:                   222968\n",
      "Method:                           MLE   Df Model:                           11\n",
      "Date:                Sun, 25 May 2025   Pseudo R-squ.:                  0.8486\n",
      "Time:                        12:41:40   Log-Likelihood:                -437.62\n",
      "converged:                       True   LL-Null:                       -2891.0\n",
      "Covariance Type:            nonrobust   LLR p-value:                     0.000\n",
      "==============================================================================\n",
      "                 coef    std err          z      P>|z|      [0.025      0.975]\n",
      "------------------------------------------------------------------------------\n",
      "const         -9.7123      0.233    -41.673      0.000     -10.169      -9.255\n",
      "V7            -0.1034      0.099     -1.039      0.299      -0.298       0.092\n",
      "V10           -0.7720      0.140     -5.508      0.000      -1.047      -0.497\n",
      "V4             1.2063      0.129      9.360      0.000       0.954       1.459\n",
      "V14           -1.1050      0.100    -11.068      0.000      -1.301      -0.909\n",
      "V12           -0.7925      0.115     -6.888      0.000      -1.018      -0.567\n",
      "V16           -0.4897      0.139     -3.515      0.000      -0.763      -0.217\n",
      "V8            -0.4427      0.061     -7.308      0.000      -0.561      -0.324\n",
      "V2            -0.2929      0.080     -3.662      0.000      -0.450      -0.136\n",
      "V17           -0.2960      0.107     -2.763      0.006      -0.506      -0.086\n",
      "V11            0.3820      0.120      3.170      0.002       0.146       0.618\n",
      "V21            0.0978      0.049      1.992      0.046       0.002       0.194\n",
      "==============================================================================\n",
      "\n",
      "Possibly complete quasi-separation: A fraction 0.67 of observations can be\n",
      "perfectly predicted. This might indicate that there is complete\n",
      "quasi-separation. In this case some parameters will not be identified.\n",
      "McFadden R²: 0.8486274273751748\n"
     ]
    }
   ],
   "source": [
    "X_train_sm = sm.add_constant(X_train[selected_features])\n",
    "model_sm = sm.Logit(y_train, X_train_sm).fit()\n",
    "print(model_sm.summary())\n",
    "\n",
    "# Pseudo R-squared (McFadden)\n",
    "print(\"McFadden R²:\", model_sm.prsquared)\n"
   ]
  },
  {
   "cell_type": "markdown",
   "id": "b1e91c90",
   "metadata": {},
   "source": [
    "Export Coefficients, Odds Ratios and P-values"
   ]
  },
  {
   "cell_type": "code",
   "execution_count": null,
   "id": "28fc432c",
   "metadata": {},
   "outputs": [
    {
     "name": "stdout",
     "output_type": "stream",
     "text": [
      "Optimization terminated successfully.\n",
      "         Current function value: 0.001963\n",
      "         Iterations 14\n",
      "      Feature  Coefficient  Odds Ratio       P-Value\n",
      "const   const    -9.712268    0.000061  0.000000e+00\n",
      "V14       V14    -1.105015    0.331206  1.799008e-28\n",
      "V4         V4     1.206276    3.341019  7.976078e-21\n",
      "V8         V8    -0.442683    0.642311  2.711696e-13\n",
      "V12       V12    -0.792514    0.452705  5.667241e-12\n",
      "V10       V10    -0.771973    0.462100  3.634173e-08\n",
      "V2         V2    -0.292882    0.746110  2.505880e-04\n",
      "V16       V16    -0.489718    0.612799  4.404653e-04\n",
      "V11       V11     0.381967    1.465164  1.523507e-03\n",
      "V17       V17    -0.296018    0.743774  5.725832e-03\n",
      "V21       V21     0.097840    1.102786  4.640595e-02\n",
      "V7         V7    -0.103373    0.901791  2.986682e-01\n"
     ]
    }
   ],
   "source": [
    "# Coefficients and p-values\n",
    "coefs = model_sm.params\n",
    "pvals = model_sm.pvalues\n",
    "odds_ratios = np.exp(coefs)\n",
    "\n",
    "# Combine into a summary DataFrame\n",
    "summary_df = pd.DataFrame({\n",
    "    'Feature': coefs.index,\n",
    "    'Coefficient': coefs.values,\n",
    "    'Odds Ratio': odds_ratios,\n",
    "    'P-Value': pvals\n",
    "}).sort_values(by='P-Value')\n",
    "\n",
    "print(summary_df)\n"
   ]
  },
  {
   "cell_type": "markdown",
   "id": "ceed78c7",
   "metadata": {},
   "source": [
    "# Random forest"
   ]
  },
  {
   "cell_type": "markdown",
   "id": "d19a8abc",
   "metadata": {},
   "source": [
    "Since there is no correlated variables (and also givem that tree based models are not sensible for this), it's able to use already the same datasets splitted for logistic regression: X_train, X_test, y_train, y_test."
   ]
  },
  {
   "cell_type": "code",
   "execution_count": null,
   "id": "fdc04858",
   "metadata": {},
   "outputs": [],
   "source": [
    "model_cv = RandomForestClassifier(\n",
    "    n_estimators=199,   # Number of trees in the forest\n",
    "    max_depth=None,     # Expand until all leaves are pure\n",
    "    random_state=92,    # For reproducibility\n",
    "    n_jobs=-1           # Use all processors for parallelism\n",
    ")\n",
    "\n",
    "cv_stats = ['roc_auc', 'f1', 'recall', 'balanced_accuracy']\n",
    "\n",
    "for stat in cv_stats:\n",
    "    cv_scores = cross_val_score(model_cv, X_train[selected_features], y_train, \n",
    "                                cv=5, scoring=stat)\n",
    "    print(f\"Cross-validated {stat}:\", np.round(cv_scores.mean(), 4), cv_scores)"
   ]
  }
 ],
 "metadata": {
  "kernelspec": {
   "display_name": "Python 3",
   "language": "python",
   "name": "python3"
  },
  "language_info": {
   "codemirror_mode": {
    "name": "ipython",
    "version": 3
   },
   "file_extension": ".py",
   "mimetype": "text/x-python",
   "name": "python",
   "nbconvert_exporter": "python",
   "pygments_lexer": "ipython3",
   "version": "3.13.3"
  }
 },
 "nbformat": 4,
 "nbformat_minor": 5
}
